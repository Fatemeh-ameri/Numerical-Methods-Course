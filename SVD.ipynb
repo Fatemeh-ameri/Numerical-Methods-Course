{
 "cells": [
  {
   "cell_type": "code",
   "execution_count": 16,
   "metadata": {},
   "outputs": [],
   "source": [
    "import numpy as np"
   ]
  },
  {
   "cell_type": "code",
   "execution_count": 17,
   "metadata": {},
   "outputs": [],
   "source": [
    "def svd_decomposition(A):\n",
    "    \"\"\"\n",
    "    Perform Singular Value Decomposition (SVD) of a matrix A.\n",
    "    \n",
    "    Parameters:\n",
    "        A (np.ndarray): Input matrix (m x n).\n",
    "    \n",
    "    Returns:\n",
    "        U (np.ndarray): Left singular vectors (m x m).\n",
    "        Sigma (np.ndarray): Singular values (m x n).\n",
    "        Vt (np.ndarray): Right singular vectors (n x n), transposed.\n",
    "    \"\"\"\n",
    "    # Step 1: Compute A^T * A and A * A^T\n",
    "    AtA = np.dot(np.transpose(A), A)\n",
    "    AAt = np.dot(A, np.transpose(A))\n",
    "    \n",
    "    # Step 2: Compute eigenvalues and eigenvectors\n",
    "    eigenvalues_AtA, V = np.linalg.eigh(AtA)\n",
    "    eigenvalues_AAt, U = np.linalg.eigh(AAt)\n",
    "    \n",
    "    # Step 3: Sort eigenvalues and eigenvectors in descending order\n",
    "    idx = np.argsort(eigenvalues_AtA)[::-1]\n",
    "    eigenvalues_AtA = eigenvalues_AtA[idx]\n",
    "    V = V[:, idx]\n",
    "    \n",
    "    idx = np.argsort(eigenvalues_AAt)[::-1]\n",
    "    eigenvalues_AAt = eigenvalues_AAt[idx]\n",
    "    U = U[:, idx]\n",
    "    \n",
    "    # Step 4: Compute singular values (square roots of eigenvalues)\n",
    "    singular_values = np.sqrt(np.maximum(eigenvalues_AtA, 0))\n",
    "    \n",
    "    # Step 5: Construct Sigma matrix\n",
    "    Sigma = np.zeros_like(A)\n",
    "    for i in range(min(A.shape)):\n",
    "        Sigma[i, i] = singular_values[i]\n",
    "    \n",
    "    # Step 6: Ensure correct signs of U and V\n",
    "    for i in range(len(singular_values)):\n",
    "        if np.dot(A @ V[:, i], U[:, i]) < 0:\n",
    "            U[:, i] = -U[:, i]\n",
    "    \n",
    "    return U, Sigma, np.transpose(V)\n"
   ]
  },
  {
   "cell_type": "code",
   "execution_count": 18,
   "metadata": {},
   "outputs": [],
   "source": [
    "# Test with a sample matrix from book page 93\n",
    "A = np.array([[0.96, 1.72], [2.28, 0.96]])\n",
    "U, Sigma, Vt = svd_decomposition(A)"
   ]
  },
  {
   "cell_type": "code",
   "execution_count": 19,
   "metadata": {},
   "outputs": [
    {
     "name": "stdout",
     "output_type": "stream",
     "text": [
      "U Matrix:\n",
      " [[-0.6 -0.8]\n",
      " [-0.8  0.6]]\n",
      "Sigma Matrix:\n",
      " [[3. 0.]\n",
      " [0. 1.]]\n",
      "V Transpose Matrix:\n",
      " [[-0.8 -0.6]\n",
      " [ 0.6 -0.8]]\n"
     ]
    }
   ],
   "source": [
    "# Output the matrices\n",
    "print(\"U Matrix:\\n\", U)\n",
    "print(\"Sigma Matrix:\\n\", Sigma)\n",
    "print(\"V Transpose Matrix:\\n\", Vt)"
   ]
  },
  {
   "cell_type": "code",
   "execution_count": 20,
   "metadata": {},
   "outputs": [
    {
     "name": "stdout",
     "output_type": "stream",
     "text": [
      "Reconstructed Matrix A:\n",
      " [[0.96 1.72]\n",
      " [2.28 0.96]]\n"
     ]
    }
   ],
   "source": [
    "# Verify reconstruction\n",
    "reconstructed_A = (U @ Sigma) @ Vt\n",
    "print(\"Reconstructed Matrix A:\\n\", reconstructed_A)"
   ]
  },
  {
   "cell_type": "code",
   "execution_count": null,
   "metadata": {},
   "outputs": [],
   "source": []
  }
 ],
 "metadata": {
  "kernelspec": {
   "display_name": "Python 3",
   "language": "python",
   "name": "python3"
  },
  "language_info": {
   "codemirror_mode": {
    "name": "ipython",
    "version": 3
   },
   "file_extension": ".py",
   "mimetype": "text/x-python",
   "name": "python",
   "nbconvert_exporter": "python",
   "pygments_lexer": "ipython3",
   "version": "3.11.5"
  }
 },
 "nbformat": 4,
 "nbformat_minor": 2
}
