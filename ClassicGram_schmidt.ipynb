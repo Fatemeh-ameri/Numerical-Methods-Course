{
 "cells": [
  {
   "cell_type": "code",
   "execution_count": 5,
   "metadata": {},
   "outputs": [],
   "source": [
    "import numpy as np"
   ]
  },
  {
   "cell_type": "code",
   "execution_count": 3,
   "metadata": {},
   "outputs": [],
   "source": [
    "def classical_gram_schmidt(A):\n",
    "    \"\"\"\n",
    "    Classical Gram-Schmidt process for QR decomposition.\n",
    "    \n",
    "    Parameters:\n",
    "        A (np.array): Input matrix.\n",
    "    \n",
    "    Returns:\n",
    "        tuple: Q (orthogonal matrix), R (upper triangular matrix)\n",
    "    \"\"\"\n",
    "    m, n = A.shape\n",
    "    Q = np.zeros((m, n))\n",
    "    R = np.zeros((n, n))\n",
    "    \n",
    "    for j in range(n):\n",
    "        v = A[:, j]\n",
    "        for i in range(j):\n",
    "            R[i, j] = np.dot(Q[:, i], A[:, j])\n",
    "            v -= R[i, j] * Q[:, i]\n",
    "        R[j, j] = np.linalg.norm(v)\n",
    "        Q[:, j] = v / R[j, j]\n",
    "    return Q, R"
   ]
  },
  {
   "cell_type": "code",
   "execution_count": 6,
   "metadata": {},
   "outputs": [
    {
     "name": "stdout",
     "output_type": "stream",
     "text": [
      "Matrix Q (Orthogonal):\n",
      "[[ 6.66666667e-01 -7.45355992e-01 -6.62009108e-17]\n",
      " [ 3.33333333e-01  2.98142397e-01 -8.94427191e-01]\n",
      " [ 6.66666667e-01  5.96284794e-01  4.47213595e-01]]\n",
      "\n",
      "Matrix R (Upper Triangular):\n",
      "[[ 3.         11.         -1.        ]\n",
      " [ 0.          4.47213595  4.47213595]\n",
      " [ 0.          0.          6.70820393]]\n"
     ]
    }
   ],
   "source": [
    "#An example from the note p 82\n",
    "A = np.array([[2, 4, -4],\n",
    "              [1, 5, -5],\n",
    "              [2, 10, 5]], dtype=float)\n",
    "\n",
    "Q, R = classical_gram_schmidt(A)\n",
    "\n",
    "print(\"Matrix Q (Orthogonal):\")\n",
    "print(Q)\n",
    "print(\"\\nMatrix R (Upper Triangular):\")\n",
    "print(R)"
   ]
  },
  {
   "cell_type": "code",
   "execution_count": 7,
   "metadata": {},
   "outputs": [
    {
     "data": {
      "text/plain": [
       "array([[ 2.,  4., -4.],\n",
       "       [ 1.,  5., -5.],\n",
       "       [ 2., 10.,  5.]])"
      ]
     },
     "execution_count": 7,
     "metadata": {},
     "output_type": "execute_result"
    }
   ],
   "source": [
    "Q@R"
   ]
  }
 ],
 "metadata": {
  "kernelspec": {
   "display_name": "Python 3",
   "language": "python",
   "name": "python3"
  },
  "language_info": {
   "codemirror_mode": {
    "name": "ipython",
    "version": 3
   },
   "file_extension": ".py",
   "mimetype": "text/x-python",
   "name": "python",
   "nbconvert_exporter": "python",
   "pygments_lexer": "ipython3",
   "version": "3.11.5"
  }
 },
 "nbformat": 4,
 "nbformat_minor": 2
}
