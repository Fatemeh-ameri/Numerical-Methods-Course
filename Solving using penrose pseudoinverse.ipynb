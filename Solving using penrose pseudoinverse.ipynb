{
 "cells": [
  {
   "cell_type": "code",
   "execution_count": 1,
   "metadata": {},
   "outputs": [],
   "source": [
    "import numpy as np"
   ]
  },
  {
   "cell_type": "code",
   "execution_count": 2,
   "metadata": {},
   "outputs": [
    {
     "name": "stdout",
     "output_type": "stream",
     "text": [
      "Solution vector x:\n",
      "[1. 1. 1.]\n"
     ]
    }
   ],
   "source": [
    "def solve_with_pseudoinverse(A, b):\n",
    "    \"\"\"\n",
    "    Solves the system of linear equations Ax = b using the Moore-Penrose pseudoinverse.\n",
    "\n",
    "    Parameters:\n",
    "    A (ndarray): Coefficient matrix (m x n).\n",
    "    b (ndarray): Constant vector (m x 1 or m).\n",
    "\n",
    "    Returns:\n",
    "    x (ndarray): Solution vector (n x 1).\n",
    "    \"\"\"\n",
    "    # Compute the Moore-Penrose pseudoinverse of A\n",
    "    A_pseudo = np.linalg.pinv(A)\n",
    "    \n",
    "    # Compute the solution\n",
    "    x = A_pseudo @ b\n",
    "    return x\n",
    "\n",
    "# Example from book page 99\n",
    "if __name__ == \"__main__\":\n",
    "    # Coefficient matrix A (m x n)\n",
    "    A = np.array([[1, 2, -1], \n",
    "                  [1, -1, 1], \n",
    "                  [1, -1, 0],\n",
    "                  [-1, 2,  0]])\n",
    "    \n",
    "    # Constant vector b (m x 1)\n",
    "    b = np.array([2, 1, 0, 1])\n",
    "    \n",
    "    # Solve the system\n",
    "    x = solve_with_pseudoinverse(A, b)\n",
    "    \n",
    "    print(\"Solution vector x:\")\n",
    "    print(x)\n"
   ]
  }
 ],
 "metadata": {
  "kernelspec": {
   "display_name": "Python 3",
   "language": "python",
   "name": "python3"
  },
  "language_info": {
   "codemirror_mode": {
    "name": "ipython",
    "version": 3
   },
   "file_extension": ".py",
   "mimetype": "text/x-python",
   "name": "python",
   "nbconvert_exporter": "python",
   "pygments_lexer": "ipython3",
   "version": "3.11.5"
  }
 },
 "nbformat": 4,
 "nbformat_minor": 2
}
