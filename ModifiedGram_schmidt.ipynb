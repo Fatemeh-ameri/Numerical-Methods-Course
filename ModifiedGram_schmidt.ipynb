{
 "cells": [
  {
   "cell_type": "code",
   "execution_count": 1,
   "metadata": {},
   "outputs": [],
   "source": [
    "import numpy as np"
   ]
  },
  {
   "cell_type": "markdown",
   "metadata": {},
   "source": [
    "در الگوريتم گرام اشميت بردار  کا ام به گونه اي ساخته مي شود كه در يك گام بر کا منهای یک بردار قبلی عمود باشد که در این صورت تولید خطا میکند.\n",
    "اما در گرام اشمیت اصلاح شده بردار کا ام به گونه ای ساخته میشود که در یک گام بر بردار اول و در گام دیگر بر بردار دوم و همینطور الی آخر.\n",
    "به این ترتیب خطا کمتر خواهد بود."
   ]
  },
  {
   "cell_type": "code",
   "execution_count": 2,
   "metadata": {},
   "outputs": [],
   "source": [
    "def modified_gram_schmidt(A):\n",
    "    \"\"\"\n",
    "    Modified Gram-Schmidt process for QR decomposition.\n",
    "    \n",
    "    Parameters:\n",
    "        A (np.array): Input matrix.\n",
    "    \n",
    "    Returns:\n",
    "        tuple: Q (orthogonal matrix), R (upper triangular matrix)\n",
    "    \"\"\"\n",
    "    m, n = A.shape\n",
    "    Q = np.zeros((m, n))\n",
    "    R = np.zeros((n, n))\n",
    "    \n",
    "    for i in range(n):\n",
    "        R[i, i] = np.linalg.norm(A[:, i])\n",
    "        Q[:, i] = A[:, i] / R[i, i]\n",
    "        for j in range(i + 1, n):\n",
    "            R[i, j] = np.dot(Q[:, i], A[:, j])\n",
    "            A[:, j] -= R[i, j] * Q[:, i]\n",
    "    return Q, R"
   ]
  },
  {
   "cell_type": "code",
   "execution_count": 3,
   "metadata": {},
   "outputs": [
    {
     "name": "stdout",
     "output_type": "stream",
     "text": [
      "Matrix Q (Orthogonal):\n",
      "[[ 6.66666667e-01 -7.45355992e-01 -6.62009108e-17]\n",
      " [ 3.33333333e-01  2.98142397e-01 -8.94427191e-01]\n",
      " [ 6.66666667e-01  5.96284794e-01  4.47213595e-01]]\n",
      "\n",
      "Matrix R (Upper Triangular):\n",
      "[[ 3.         11.         -1.        ]\n",
      " [ 0.          4.47213595  4.47213595]\n",
      " [ 0.          0.          6.70820393]]\n"
     ]
    }
   ],
   "source": [
    "A = np.array([[2, 4, -4],\n",
    "              [1, 5, -5],\n",
    "              [2, 10, 5]], dtype=float)\n",
    "\n",
    "Q, R = modified_gram_schmidt(A)\n",
    "\n",
    "print(\"Matrix Q (Orthogonal):\")\n",
    "print(Q)\n",
    "print(\"\\nMatrix R (Upper Triangular):\")\n",
    "print(R)"
   ]
  },
  {
   "cell_type": "code",
   "execution_count": 4,
   "metadata": {},
   "outputs": [
    {
     "data": {
      "text/plain": [
       "array([[ 2.,  4., -4.],\n",
       "       [ 1.,  5., -5.],\n",
       "       [ 2., 10.,  5.]])"
      ]
     },
     "execution_count": 4,
     "metadata": {},
     "output_type": "execute_result"
    }
   ],
   "source": [
    "Q@R"
   ]
  }
 ],
 "metadata": {
  "kernelspec": {
   "display_name": "Python 3",
   "language": "python",
   "name": "python3"
  },
  "language_info": {
   "codemirror_mode": {
    "name": "ipython",
    "version": 3
   },
   "file_extension": ".py",
   "mimetype": "text/x-python",
   "name": "python",
   "nbconvert_exporter": "python",
   "pygments_lexer": "ipython3",
   "version": "3.11.5"
  }
 },
 "nbformat": 4,
 "nbformat_minor": 2
}
