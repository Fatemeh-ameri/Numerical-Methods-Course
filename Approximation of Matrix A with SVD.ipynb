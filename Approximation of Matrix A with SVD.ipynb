{
 "cells": [
  {
   "cell_type": "code",
   "execution_count": 2,
   "metadata": {},
   "outputs": [],
   "source": [
    "import numpy as np"
   ]
  },
  {
   "cell_type": "code",
   "execution_count": 7,
   "metadata": {},
   "outputs": [],
   "source": [
    "def svd_approximation(A, k):\n",
    "    \"\"\"\n",
    "    Approximates matrix A using the top k singular values via SVD.\n",
    "    \n",
    "    Parameters:\n",
    "        A (np.ndarray): Input matrix (m x n)\n",
    "        k (int): Number of singular values to retain (1 <= k <= min(m, n))\n",
    "    \n",
    "    Returns:\n",
    "        A_approx (np.ndarray): Rank-k approximation of A (m x n)\n",
    "    \"\"\"\n",
    "    # Perform SVD\n",
    "    U, s, Vt = np.linalg.svd(A, full_matrices=False)\n",
    "    \n",
    "    # top k singular values\n",
    "    U_k = U[:, :k]          # (m, k)\n",
    "    s_k = s[:k]             # (k, )\n",
    "    Vt_k = Vt[:k, :]        # (k, n)\n",
    "    \n",
    "    # Reconstruct the rank-k approximation\n",
    "    Sigma_k = np.diag(s_k)  # Diagonal matrix of top k singular values (k x k)\n",
    "    A_approx = U_k @ Sigma_k @ Vt_k\n",
    "    \n",
    "    return A_approx"
   ]
  },
  {
   "cell_type": "code",
   "execution_count": 8,
   "metadata": {},
   "outputs": [
    {
     "name": "stdout",
     "output_type": "stream",
     "text": [
      "Original Matrix:\n",
      "[[0.96 1.72]\n",
      " [2.28 0.96]]\n",
      "\n",
      "Rank-1 Approximation:\n",
      "[[1.44 1.08]\n",
      " [1.92 1.44]]\n",
      "\n",
      "Rank-2 Approximation (Exact Reconstruction):\n",
      "[[0.96 1.72]\n",
      " [2.28 0.96]]\n"
     ]
    }
   ],
   "source": [
    "# Test with a sample matrix from book page 93\n",
    "\n",
    "A = np.array([[0.96, 1.72], [2.28, 0.96]])\n",
    "\n",
    "# Compute rank-1 approximation\n",
    "A_rank1 = svd_approximation(A, k=1)\n",
    "\n",
    "# Compute rank-2 approximation (exact since original matrix is rank 2)\n",
    "A_rank2 = svd_approximation(A, k=2)\n",
    "\n",
    "print(\"Original Matrix:\")\n",
    "print(A)\n",
    "print(\"\\nRank-1 Approximation:\")\n",
    "print(A_rank1)\n",
    "print(\"\\nRank-2 Approximation (Exact Reconstruction):\")\n",
    "print(A_rank2)"
   ]
  }
 ],
 "metadata": {
  "kernelspec": {
   "display_name": "Python 3",
   "language": "python",
   "name": "python3"
  },
  "language_info": {
   "codemirror_mode": {
    "name": "ipython",
    "version": 3
   },
   "file_extension": ".py",
   "mimetype": "text/x-python",
   "name": "python",
   "nbconvert_exporter": "python",
   "pygments_lexer": "ipython3",
   "version": "3.11.5"
  }
 },
 "nbformat": 4,
 "nbformat_minor": 2
}
