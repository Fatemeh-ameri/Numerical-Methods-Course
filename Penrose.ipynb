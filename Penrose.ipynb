{
 "cells": [
  {
   "cell_type": "code",
   "execution_count": 1,
   "metadata": {},
   "outputs": [],
   "source": [
    "import numpy as np"
   ]
  },
  {
   "cell_type": "code",
   "execution_count": 3,
   "metadata": {},
   "outputs": [],
   "source": [
    "def penrose_pseudoinverse(A):\n",
    "    \"\"\"\n",
    "    Compute the Penrose pseudo-inverse of a matrix A.\n",
    "\n",
    "    Parameters:\n",
    "        A : Input matrix.\n",
    "\n",
    "    Returns:\n",
    "        The pseudo-inverse of A.\n",
    "    \"\"\"\n",
    "    # Step 1: Perform Singular Value Decomposition (SVD)\n",
    "    U, S, Vt = np.linalg.svd(A, full_matrices=False)\n",
    "    \n",
    "    # Step 2: Invert the singular values\n",
    "    S_inv = np.zeros_like(S)  # Initialize array to store inverted singular values\n",
    "    for i in range(len(S)):\n",
    "        if S[i] > 1e-10:  # Avoid division by zero\n",
    "            S_inv[i] = 1 / S[i]\n",
    "    \n",
    "    # Step 3: Reconstruct the pseudo-inverse\n",
    "    S_inv_matrix = np.diag(S_inv)  # Convert the singular value array to a diagonal matrix\n",
    "    A_pseudo = np.dot(np.transpose(Vt), np.dot(S_inv_matrix, np.transpose(U)))  # Compute A+ = V * S⁻¹ * U.T\n",
    "    \n",
    "    return A_pseudo"
   ]
  },
  {
   "cell_type": "code",
   "execution_count": 4,
   "metadata": {},
   "outputs": [
    {
     "name": "stdout",
     "output_type": "stream",
     "text": [
      "[[ 0.03349282  0.12440191 -0.23444976 -0.01435407]\n",
      " [ 0.12440191  0.03349282  0.1291866  -0.19617225]]\n"
     ]
    }
   ],
   "source": [
    "#An example from notebook page 95\n",
    "A = np.array([[1, 2], [2, 1], [-3, 1], [-1, -3]])\n",
    "print(penrose_pseudoinverse(A))"
   ]
  },
  {
   "cell_type": "code",
   "execution_count": null,
   "metadata": {},
   "outputs": [],
   "source": []
  }
 ],
 "metadata": {
  "kernelspec": {
   "display_name": "Python 3",
   "language": "python",
   "name": "python3"
  },
  "language_info": {
   "codemirror_mode": {
    "name": "ipython",
    "version": 3
   },
   "file_extension": ".py",
   "mimetype": "text/x-python",
   "name": "python",
   "nbconvert_exporter": "python",
   "pygments_lexer": "ipython3",
   "version": "3.11.5"
  }
 },
 "nbformat": 4,
 "nbformat_minor": 2
}
