{
 "cells": [
  {
   "cell_type": "code",
   "execution_count": 22,
   "metadata": {},
   "outputs": [],
   "source": [
    "import numpy as np"
   ]
  },
  {
   "cell_type": "code",
   "execution_count": 23,
   "metadata": {},
   "outputs": [],
   "source": [
    "# Step 1: Define the matrix A\n",
    "def construct_matrix(m, n):\n",
    "    \"\"\"\n",
    "    Construct the matrix A where a_ij = (j / 10) ** (i - 1).\n",
    "    \n",
    "    Parameters:\n",
    "        m (int): Number of rows.\n",
    "        n (int): Number of columns.\n",
    "    \n",
    "    Returns:\n",
    "         The constructed matrix A.\n",
    "    \"\"\"\n",
    "    A = np.zeros((m, n))\n",
    "    for i in range(m):\n",
    "        for j in range(n):\n",
    "            A[i, j] = (j / 10) ** i \n",
    "    return A"
   ]
  },
  {
   "cell_type": "code",
   "execution_count": 24,
   "metadata": {},
   "outputs": [],
   "source": [
    "def compute_error(U):\n",
    "    \"\"\"\n",
    "    Compute the error E = ||I - U^T U||_F.\n",
    "    \n",
    "    Parameters:\n",
    "        U : Orthogonalized matrix.\n",
    "    \n",
    "    Returns:\n",
    "        float: The error.\n",
    "    \"\"\"\n",
    "    I = np.eye(U.shape[1])  # Identity matrix of size equal to the number of columns in U\n",
    "    residual = I - (np.transpose(U)@U)\n",
    "    return np.linalg.norm(residual, ord= 2) # Compute the 2-norm (spectral norm)"
   ]
  },
  {
   "cell_type": "code",
   "execution_count": 25,
   "metadata": {},
   "outputs": [],
   "source": [
    "def classical_gram_schmidt(A):\n",
    "    \"\"\"\n",
    "    Classical Gram-Schmidt process for QR decomposition.\n",
    "    \n",
    "    Parameters:\n",
    "        A (np.array): Input matrix.\n",
    "    \n",
    "    Returns:\n",
    "        tuple: Q (orthogonal matrix), R (upper triangular matrix)\n",
    "    \"\"\"\n",
    "    m, n = A.shape\n",
    "    Q = np.zeros((m, n))\n",
    "    R = np.zeros((n, n))\n",
    "    \n",
    "    for j in range(n):\n",
    "        v = A[:, j]\n",
    "        for i in range(j):\n",
    "            R[i, j] = np.dot(Q[:, i], A[:, j])\n",
    "            v -= R[i, j] * Q[:, i]\n",
    "        R[j, j] = np.linalg.norm(v)\n",
    "        Q[:, j] = v / R[j, j]\n",
    "    return Q, R"
   ]
  },
  {
   "cell_type": "code",
   "execution_count": 26,
   "metadata": {},
   "outputs": [],
   "source": [
    "def modified_gram_schmidt(A):\n",
    "    \"\"\"\n",
    "    Modified Gram-Schmidt process for QR decomposition.\n",
    "    \n",
    "    Parameters:\n",
    "        A (np.array): Input matrix.\n",
    "    \n",
    "    Returns:\n",
    "        tuple: Q (orthogonal matrix), R (upper triangular matrix)\n",
    "    \"\"\"\n",
    "    m, n = A.shape\n",
    "    Q = np.zeros((m, n))\n",
    "    R = np.zeros((n, n))\n",
    "    \n",
    "    for i in range(n):\n",
    "        R[i, i] = np.linalg.norm(A[:, i])\n",
    "        Q[:, i] = A[:, i] / R[i, i]\n",
    "        for j in range(i + 1, n):\n",
    "            R[i, j] = np.dot(Q[:, i], A[:, j])\n",
    "            A[:, j] -= R[i, j] * Q[:, i]\n",
    "    return Q, R"
   ]
  },
  {
   "cell_type": "code",
   "execution_count": 34,
   "metadata": {},
   "outputs": [],
   "source": [
    "# Main program\n",
    "m, n = 15, 10  # Dimensions of the matrix\n",
    "A = construct_matrix(m, n).astype(np.float64)"
   ]
  },
  {
   "cell_type": "code",
   "execution_count": 28,
   "metadata": {},
   "outputs": [],
   "source": [
    "# Classical Gram-Schmidt\n",
    "Q, R= classical_gram_schmidt(A)\n",
    "U_cgs = Q\n",
    "E_cgs = compute_error(U_cgs)"
   ]
  },
  {
   "cell_type": "code",
   "execution_count": 29,
   "metadata": {},
   "outputs": [],
   "source": [
    "Q1, R1= modified_gram_schmidt(A)\n",
    "U_cgs = Q1\n",
    "E_mgs = compute_error(U_cgs)"
   ]
  },
  {
   "cell_type": "code",
   "execution_count": 41,
   "metadata": {},
   "outputs": [
    {
     "name": "stdout",
     "output_type": "stream",
     "text": [
      "Error for Classical Gram-Schmidt: 1.8431909206787393e-11\n",
      "Error for Modified Gram-Schmidt: 2.96402969329422e-16\n"
     ]
    }
   ],
   "source": [
    "\n",
    "print(f\"Error for Classical Gram-Schmidt: {E_cgs}\")\n",
    "print(f\"Error for Modified Gram-Schmidt: {E_mgs}\")"
   ]
  },
  {
   "cell_type": "code",
   "execution_count": 42,
   "metadata": {},
   "outputs": [
    {
     "name": "stdout",
     "output_type": "stream",
     "text": [
      "Error for NumPy QR: 9.411069887837254e-16\n"
     ]
    }
   ],
   "source": [
    "# NumPy QR\n",
    "Q_np, R_np = np.linalg.qr(A)\n",
    "E_np = compute_error(Q_np)\n",
    "print(f\"Error for NumPy QR: {E_np}\")"
   ]
  }
 ],
 "metadata": {
  "kernelspec": {
   "display_name": "Python 3",
   "language": "python",
   "name": "python3"
  },
  "language_info": {
   "codemirror_mode": {
    "name": "ipython",
    "version": 3
   },
   "file_extension": ".py",
   "mimetype": "text/x-python",
   "name": "python",
   "nbconvert_exporter": "python",
   "pygments_lexer": "ipython3",
   "version": "3.11.5"
  }
 },
 "nbformat": 4,
 "nbformat_minor": 2
}
