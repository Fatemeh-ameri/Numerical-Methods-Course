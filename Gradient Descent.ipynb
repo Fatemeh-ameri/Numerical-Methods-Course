{
 "cells": [
  {
   "cell_type": "code",
   "execution_count": 7,
   "metadata": {},
   "outputs": [],
   "source": [
    "import numpy as np"
   ]
  },
  {
   "cell_type": "code",
   "execution_count": 8,
   "metadata": {},
   "outputs": [],
   "source": [
    "def gradient_descent(\n",
    "    gradient_func,  # Function to compute gradients (e.g., gradient)\n",
    "    initial_params, # Initial guess (e.g., [0, 0])\n",
    "    learning_rate,  # Step size (alpha)\n",
    "    max_iterations=1000,\n",
    "    tolerance=1e-6   # Stop if ||gradient|| < tolerance\n",
    "):\n",
    "    params = initial_params.copy()\n",
    "    for i in range(max_iterations):\n",
    "        gradient = gradient_func(params)\n",
    "        if np.linalg.norm(gradient) < tolerance:\n",
    "            break\n",
    "        params -= learning_rate * gradient\n",
    "    return params"
   ]
  },
  {
   "cell_type": "code",
   "execution_count": 10,
   "metadata": {},
   "outputs": [
    {
     "name": "stdout",
     "output_type": "stream",
     "text": [
      "Test Result: [1.00000035 2.99999965]\n"
     ]
    }
   ],
   "source": [
    "def gradient(params):\n",
    "    x, y = params\n",
    "    return np.array([10*x + 8*y - 34, 8*x + 10*y - 38])\n",
    "\n",
    "# Test setup\n",
    "initial_params = np.array([0.0, 0.0])\n",
    "learning_rate = 0.01\n",
    "result = gradient_descent(\n",
    "    gradient_func=gradient,\n",
    "    initial_params=initial_params,\n",
    "    learning_rate=learning_rate,\n",
    "    max_iterations=1000,\n",
    "    tolerance=1e-6\n",
    ")\n",
    "\n",
    "print(\"Test Result:\", result)"
   ]
  }
 ],
 "metadata": {
  "kernelspec": {
   "display_name": "Python 3",
   "language": "python",
   "name": "python3"
  },
  "language_info": {
   "codemirror_mode": {
    "name": "ipython",
    "version": 3
   },
   "file_extension": ".py",
   "mimetype": "text/x-python",
   "name": "python",
   "nbconvert_exporter": "python",
   "pygments_lexer": "ipython3",
   "version": "3.11.5"
  }
 },
 "nbformat": 4,
 "nbformat_minor": 2
}
